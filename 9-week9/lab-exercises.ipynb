{
 "cells": [
  {
   "cell_type": "markdown",
   "metadata": {},
   "source": [
    "### Exercise 1\n",
    "\n",
    "The following example sets up a clustering problem with the MNIST handwriting data. "
   ]
  },
  {
   "cell_type": "code",
   "execution_count": null,
   "metadata": {},
   "outputs": [],
   "source": [
    "import matplotlib.pyplot as plt\n",
    "import numpy as np\n",
    "from sklearn import datasets\n",
    "from sklearn.manifold import TSNE\n",
    "from sklearn.cluster import KMeans\n",
    "from sklearn.preprocessing import StandardScaler\n",
    "\n",
    "# Load the MNIST digit data\n",
    "digits = datasets.load_digits()\n",
    "X = digits.data\n",
    "y = digits.target\n",
    "\n",
    "# Standardize the data\n",
    "scaler = StandardScaler()\n",
    "X_scaled = scaler.fit_transform(X)\n",
    "\n",
    "# Use t-SNE for dimensionality reduction\n",
    "tsne = TSNE(n_components=2, random_state=42)\n",
    "X_tsne = tsne.fit_transform(X_scaled)\n",
    "\n",
    "# Visualization function\n",
    "def visualize_clusters(X_2D, labels, title=\"\"):\n",
    "    plt.figure(figsize=(10, 6))\n",
    "    scatter = plt.scatter(X_2D[:, 0], X_2D[:, 1], c=labels, cmap='tab10', s=50, alpha=0.6, edgecolors='w')\n",
    "    plt.title(title)\n",
    "    plt.xlabel('t-SNE feature 1')\n",
    "    plt.ylabel('t-SNE feature 2')\n",
    "    plt.colorbar(scatter)\n",
    "    plt.show()\n",
    "\n",
    "# Visualize ground truth\n",
    "visualize_clusters(X_tsne, y, title=\"Ground Truth (MNIST Digits)\")\n",
    "\n",
    "# Apply KMeans clustering\n",
    "kmeans = KMeans(n_clusters=10, random_state=42)\n",
    "kmeans_labels = kmeans.fit_predict(X_scaled)\n",
    "\n",
    "# Visualize KMeans clustering results\n",
    "visualize_clusters(X_tsne, kmeans_labels, title=\"KMeans Clustering on MNIST Digits\")\n"
   ]
  },
  {
   "cell_type": "markdown",
   "metadata": {},
   "source": [
    "#### Step 1: Select K\n",
    "\n",
    "Use the elbow method, davies-bouldin, and silouhette methods to pick the best value of k.  What do you get?"
   ]
  },
  {
   "cell_type": "code",
   "execution_count": null,
   "metadata": {},
   "outputs": [],
   "source": []
  },
  {
   "cell_type": "markdown",
   "metadata": {},
   "source": [
    "#### Step 2: Pick the best method\n",
    "\n",
    "Pick the best method you can to resolve the clusters.  Which one do you prefer?"
   ]
  },
  {
   "cell_type": "code",
   "execution_count": null,
   "metadata": {},
   "outputs": [],
   "source": []
  },
  {
   "cell_type": "markdown",
   "metadata": {},
   "source": [
    "### Exercise 2\n",
    "\n",
    "There are four data samples in the \"data\" folder.  For each one, load it in and try to find a clustering method which is able to identify the labeled clusters in each case.  The last data file (`clustering_4.csv`) might benefit from dimensionality reduction!  I've included code to evaluate your clustering."
   ]
  },
  {
   "cell_type": "code",
   "execution_count": 2,
   "metadata": {},
   "outputs": [],
   "source": [
    "def evaluate_clustering(y_true, y_pred):\n",
    "    \"\"\"\n",
    "    Evaluates clustering performance using multiple metrics.\n",
    "    Returns a dictionary of scores.\n",
    "    \"\"\"\n",
    "    scores = {\n",
    "        'ari': adjusted_rand_score(y_true, y_pred),\n",
    "        'silhouette': silhouette_score(X, y_pred) if len(np.unique(y_pred)) > 1 else -1\n",
    "    }\n",
    "    return scores"
   ]
  }
 ],
 "metadata": {
  "kernelspec": {
   "display_name": ".venv",
   "language": "python",
   "name": "python3"
  },
  "language_info": {
   "codemirror_mode": {
    "name": "ipython",
    "version": 3
   },
   "file_extension": ".py",
   "mimetype": "text/x-python",
   "name": "python",
   "nbconvert_exporter": "python",
   "pygments_lexer": "ipython3",
   "version": "3.12.4"
  }
 },
 "nbformat": 4,
 "nbformat_minor": 2
}
