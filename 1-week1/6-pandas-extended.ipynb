{
  "cells": [
    {
      "cell_type": "markdown",
      "metadata": {
        "id": "dFCCbGXSRTb3"
      },
      "source": [
        "# Pandas extended introduction\n",
        "\n",
        "This notebook offers a more comprehensive overview of Pandas.  Note that it references a set of exercises that may be found in this repository, [here](./pandas-extended-intro-additional-exercises.ipynb).\n",
        "\n",
        "\n",
        "# Section 1: Getting Started With Pandas\n",
        "\n",
        "We will begin by introducing the `Series`, `DataFrame`, and `Index` classes, which are the basic building blocks of the pandas library, and showing how to work with them. By the end of this section, you will be able to create DataFrames and perform operations on them to inspect and filter the data."
      ]
    },
    {
      "cell_type": "markdown",
      "metadata": {
        "id": "kppmcvQMRTb4"
      },
      "source": [
        "## Anatomy of a DataFrame\n",
        "\n",
        "A **DataFrame** is composed of one or more **Series**. The names of the **Series** form the column names, and the row labels form the **Index**."
      ]
    },
    {
      "cell_type": "code",
      "execution_count": null,
      "metadata": {
        "colab": {
          "base_uri": "https://localhost:8080/",
          "height": 310
        },
        "id": "fj3QyGfHRTb5",
        "outputId": "9cc56dc0-a8c9-4363-b1ac-4b9eaa2934eb"
      },
      "outputs": [],
      "source": [
        "import pandas as pd\n",
        "\n",
        "meteorites = pd.read_csv('./data/Meteorite_Landings.csv', nrows=5)\n",
        "meteorites"
      ]
    },
    {
      "cell_type": "markdown",
      "metadata": {
        "id": "AaA6aL3GRTb6"
      },
      "source": [
        "*Source: [NASA's Open Data Portal](https://data.nasa.gov/Space-Science/Meteorite-Landings/gh4g-9sfh)*"
      ]
    },
    {
      "cell_type": "markdown",
      "metadata": {
        "id": "crjF489nRTb6"
      },
      "source": [
        "#### Series:"
      ]
    },
    {
      "cell_type": "code",
      "execution_count": null,
      "metadata": {
        "colab": {
          "base_uri": "https://localhost:8080/"
        },
        "id": "hS5bRvc0RTb6",
        "outputId": "e2e5244e-2262-45a9-98a5-f9a78eaf514d"
      },
      "outputs": [],
      "source": [
        "meteorites.name"
      ]
    },
    {
      "cell_type": "markdown",
      "metadata": {
        "id": "uFSC2SgRRTb7"
      },
      "source": [
        "#### Columns:"
      ]
    },
    {
      "cell_type": "code",
      "execution_count": null,
      "metadata": {
        "colab": {
          "base_uri": "https://localhost:8080/"
        },
        "id": "CgkouPCORTb7",
        "outputId": "8496d789-ce29-44ee-b414-a42765d81e20"
      },
      "outputs": [],
      "source": [
        "meteorites.columns"
      ]
    },
    {
      "cell_type": "markdown",
      "metadata": {
        "id": "RwycHKAaRTb7"
      },
      "source": [
        "#### Index:"
      ]
    },
    {
      "cell_type": "code",
      "execution_count": null,
      "metadata": {
        "colab": {
          "base_uri": "https://localhost:8080/"
        },
        "id": "fy_6mBAgRTb7",
        "outputId": "de5e4624-2271-4b2e-e608-701984050cd5"
      },
      "outputs": [],
      "source": [
        "\n",
        "meteorites.index"
      ]
    },
    {
      "cell_type": "markdown",
      "metadata": {
        "id": "Lzs5sbRoRTb7"
      },
      "source": [
        "## Creating DataFrames\n",
        "\n",
        "We can create DataFrames from a variety of sources such as other Python objects, flat files, webscraping, and API requests. Here, we will see just a couple of examples, but be sure to check out [this page](https://pandas.pydata.org/pandas-docs/stable/user_guide/io.html) in the documentation for a complete list."
      ]
    },
    {
      "cell_type": "markdown",
      "metadata": {
        "id": "g8BunDWJRTb8"
      },
      "source": [
        "### Using a flat file"
      ]
    },
    {
      "cell_type": "code",
      "execution_count": null,
      "metadata": {
        "id": "5RYUwp_bRTb8"
      },
      "outputs": [],
      "source": [
        "import pandas as pd\n",
        "\n",
        "meteorites = pd.read_csv('data/Meteorite_Landings.csv')"
      ]
    },
    {
      "cell_type": "markdown",
      "metadata": {
        "id": "m-OhJ8tlRTb8"
      },
      "source": [
        "*Tip: There are many parameters to this function to handle some initial processing while reading in the file &ndash; be sure check out the [documentation](https://pandas.pydata.org/docs/reference/api/pandas.read_csv.html).*"
      ]
    },
    {
      "cell_type": "markdown",
      "metadata": {
        "id": "J1A65kA7RTb8"
      },
      "source": [
        "### Using data from an API\n",
        "\n",
        "Collect the data from [NASA's Open Data Portal](https://data.nasa.gov/Space-Science/Meteorite-Landings/gh4g-9sfh) using the Socrata Open Data API (SODA) with the `requests` library:"
      ]
    },
    {
      "cell_type": "code",
      "execution_count": null,
      "metadata": {
        "id": "P7gFywcFRTb8"
      },
      "outputs": [],
      "source": [
        "import requests\n",
        "\n",
        "response = requests.get(\n",
        "    'https://data.nasa.gov/resource/gh4g-9sfh.json',\n",
        "    params={'$limit': 50_000}\n",
        ")\n",
        "\n",
        "if response.ok:\n",
        "    payload = response.json()\n",
        "else:\n",
        "    print(f'Request was not successful and returned code: {response.status_code}.')\n",
        "    payload = None"
      ]
    },
    {
      "cell_type": "markdown",
      "metadata": {
        "id": "BmqSgOoHRTb9"
      },
      "source": [
        "Create the DataFrame with the resulting payload:"
      ]
    },
    {
      "cell_type": "code",
      "execution_count": null,
      "metadata": {
        "colab": {
          "base_uri": "https://localhost:8080/",
          "height": 320
        },
        "id": "8NHzmmHGRTb9",
        "outputId": "8456ce04-e551-476c-cc00-4a6b55f171d4"
      },
      "outputs": [],
      "source": [
        "import pandas as pd\n",
        "\n",
        "df = pd.DataFrame(payload)\n",
        "df.head(3)"
      ]
    },
    {
      "cell_type": "markdown",
      "metadata": {
        "id": "CsMO-HGYRTb9"
      },
      "source": [
        "*Tip: `df.to_csv('data.csv')` writes this data to a new file called `data.csv`.*"
      ]
    },
    {
      "cell_type": "code",
      "execution_count": null,
      "metadata": {
        "id": "ytZYVy91R7xe"
      },
      "outputs": [],
      "source": [
        "df.to_csv('mydata.csv')"
      ]
    },
    {
      "cell_type": "markdown",
      "metadata": {
        "id": "ffEnl-iaRTb9"
      },
      "source": [
        "## Inspecting the data\n",
        "Now that we have some data, we need to perform an initial inspection of it. This gives us information on what the data looks like, how many rows/columns there are, and how much data we have."
      ]
    },
    {
      "cell_type": "markdown",
      "metadata": {
        "id": "5AG-IHHGRTb9"
      },
      "source": [
        "Let's inspect the `meteorites` data."
      ]
    },
    {
      "cell_type": "markdown",
      "metadata": {
        "id": "YhWPbUllRTb9"
      },
      "source": [
        "#### How many rows and columns are there?"
      ]
    },
    {
      "cell_type": "code",
      "execution_count": null,
      "metadata": {
        "colab": {
          "base_uri": "https://localhost:8080/"
        },
        "id": "tAz6owkvRTb9",
        "outputId": "833c51dc-eba5-4de0-ae5b-fc9c50713b35"
      },
      "outputs": [],
      "source": [
        "meteorites.shape"
      ]
    },
    {
      "cell_type": "markdown",
      "metadata": {
        "id": "hd5KBlsHRTb9"
      },
      "source": [
        "#### What are the column names?"
      ]
    },
    {
      "cell_type": "code",
      "execution_count": null,
      "metadata": {
        "colab": {
          "base_uri": "https://localhost:8080/"
        },
        "id": "X2pUvH22RTb-",
        "outputId": "ef58d0da-656e-4760-f2a3-4c9e6d5b482a"
      },
      "outputs": [],
      "source": [
        "\n",
        "meteorites.columns"
      ]
    },
    {
      "cell_type": "markdown",
      "metadata": {
        "id": "J0mBjy5cRTb-"
      },
      "source": [
        "#### What type of data does each column currently hold?"
      ]
    },
    {
      "cell_type": "code",
      "execution_count": null,
      "metadata": {
        "colab": {
          "base_uri": "https://localhost:8080/"
        },
        "id": "WNJXpLGQRTb-",
        "outputId": "bc1061d2-ff0e-4a80-9a06-9c1292a87d7b"
      },
      "outputs": [],
      "source": [
        "\n",
        "meteorites.dtypes"
      ]
    },
    {
      "cell_type": "markdown",
      "metadata": {
        "id": "eiyzBCQMRTb-"
      },
      "source": [
        "#### What does the data look like?"
      ]
    },
    {
      "cell_type": "code",
      "execution_count": null,
      "metadata": {
        "colab": {
          "base_uri": "https://localhost:8080/",
          "height": 417
        },
        "id": "9mLe482kRTb-",
        "outputId": "356c5aef-da41-4477-91f1-56c9b6fcc916"
      },
      "outputs": [],
      "source": [
        "meteorites.head()"
      ]
    },
    {
      "cell_type": "markdown",
      "metadata": {
        "id": "DphjWrrfRTb-"
      },
      "source": [
        "Sometimes there may be extraneous data at the end of the file, so checking the bottom few rows is also important:"
      ]
    },
    {
      "cell_type": "code",
      "execution_count": null,
      "metadata": {
        "colab": {
          "base_uri": "https://localhost:8080/",
          "height": 417
        },
        "id": "8DcWIOY7RTb-",
        "outputId": "9f079e3b-8ab6-4de4-c9d6-16a351dec6a8"
      },
      "outputs": [],
      "source": [
        "meteorites.tail()"
      ]
    },
    {
      "cell_type": "markdown",
      "metadata": {
        "id": "qKVAo6VlRTb_"
      },
      "source": [
        "#### Get some information about the DataFrame"
      ]
    },
    {
      "cell_type": "code",
      "execution_count": null,
      "metadata": {
        "colab": {
          "base_uri": "https://localhost:8080/"
        },
        "id": "ZIlf9OlORTb_",
        "outputId": "564f5183-f8c3-455a-ebd4-727a60971a42"
      },
      "outputs": [],
      "source": [
        "meteorites.info()"
      ]
    },
    {
      "cell_type": "markdown",
      "metadata": {
        "id": "2FtKHFXcRTb_"
      },
      "source": [
        "## Extracting subsets\n",
        "\n",
        "A crucial part of working with DataFrames is extracting subsets of the data: finding rows that meet a certain set of criteria, isolating columns/rows of interest, etc. After narrowing down our data, we are closer to discovering insights. This section will be the backbone of many analysis tasks."
      ]
    },
    {
      "cell_type": "markdown",
      "metadata": {
        "id": "D3TylHLURTb_"
      },
      "source": [
        "#### Selecting columns\n",
        "\n",
        "We can select columns as attributes if their names would be valid Python variables:"
      ]
    },
    {
      "cell_type": "code",
      "execution_count": null,
      "metadata": {
        "colab": {
          "base_uri": "https://localhost:8080/"
        },
        "id": "tUE4NF3PRTb_",
        "outputId": "e117dd74-2df6-4f11-e2b1-44c4ee301023"
      },
      "outputs": [],
      "source": [
        "meteorites.name"
      ]
    },
    {
      "cell_type": "markdown",
      "metadata": {
        "id": "VY63yzSoRTb_"
      },
      "source": [
        "If they aren't, we have to select them as keys. However, we can select multiple columns at once this way:"
      ]
    },
    {
      "cell_type": "code",
      "execution_count": null,
      "metadata": {
        "colab": {
          "base_uri": "https://localhost:8080/",
          "height": 424
        },
        "id": "P8QwTD-IRTb_",
        "outputId": "f17a59ec-54f5-4879-c167-9459bd314af7"
      },
      "outputs": [],
      "source": [
        "meteorites[['name','mass (g)']]"
      ]
    },
    {
      "cell_type": "markdown",
      "metadata": {
        "id": "jIdNvbLHRTcA"
      },
      "source": [
        "#### Selecting rows"
      ]
    },
    {
      "cell_type": "code",
      "execution_count": null,
      "metadata": {
        "colab": {
          "base_uri": "https://localhost:8080/",
          "height": 351
        },
        "id": "SgGEb2FxRTcA",
        "outputId": "5edae247-4584-4afd-a6cc-6e312aeb5a0f"
      },
      "outputs": [],
      "source": [
        "meteorites[100:104]"
      ]
    },
    {
      "cell_type": "markdown",
      "metadata": {
        "id": "N_3kaaLCRTcA"
      },
      "source": [
        "#### Indexing\n",
        "\n",
        "We use `iloc[]` to select rows and columns by their position:"
      ]
    },
    {
      "cell_type": "code",
      "execution_count": null,
      "metadata": {
        "colab": {
          "base_uri": "https://localhost:8080/",
          "height": 175
        },
        "id": "HSmBoa6HRTcA",
        "outputId": "fbfdf605-e444-4cbe-b9d9-03d08b63e0b8"
      },
      "outputs": [],
      "source": [
        "meteorites.iloc[100:104,[0,3,4,6]]"
      ]
    },
    {
      "cell_type": "markdown",
      "metadata": {
        "id": "_c1ae5STRTcA"
      },
      "source": [
        "We use `loc[]` to select by name:"
      ]
    },
    {
      "cell_type": "code",
      "execution_count": null,
      "metadata": {
        "colab": {
          "base_uri": "https://localhost:8080/",
          "height": 206
        },
        "id": "v3jr67yPRTcA",
        "outputId": "98062b68-c131-4d78-9e1e-33de234228b4"
      },
      "outputs": [],
      "source": [
        "meteorites.loc[100:104,'mass (g)':'year']"
      ]
    },
    {
      "cell_type": "markdown",
      "metadata": {
        "id": "kRm6JikFRTcB"
      },
      "source": [
        "#### Filtering with Boolean masks\n",
        "\n",
        "A **Boolean mask** is a array-like structure of Boolean values &ndash; it's a way to specify which rows/columns we want to select (`True`) and which we don't (`False`)."
      ]
    },
    {
      "cell_type": "markdown",
      "metadata": {
        "id": "sFmZMQ4xRTcB"
      },
      "source": [
        "Here's an example of a Boolean mask for meteorites weighing more than 50 grams that were found on Earth (i.e., they were not observed falling):"
      ]
    },
    {
      "cell_type": "code",
      "execution_count": null,
      "metadata": {
        "colab": {
          "base_uri": "https://localhost:8080/"
        },
        "id": "7OtKCzA-RTcB",
        "outputId": "3f63381e-4601-4cbd-baa5-4233fc947574"
      },
      "outputs": [],
      "source": [
        "(meteorites['mass (g)'] > 50) & (meteorites.fall == \"Found\")"
      ]
    },
    {
      "cell_type": "markdown",
      "metadata": {
        "id": "QGzPyL7SRTcB"
      },
      "source": [
        "**Important**: Take note of the syntax here. We surround each condition with parentheses, and we use bitwise operators (`&`, `|`, `~`) instead of logical operators (`and`, `or`, `not`)."
      ]
    },
    {
      "cell_type": "markdown",
      "metadata": {
        "id": "ZmtW2-BZRTcB"
      },
      "source": [
        "We can use a Boolean mask to select the subset of meteorites weighing more than 1 million grams (1,000 kilograms or roughly 2,205 pounds) that were observed falling:"
      ]
    },
    {
      "cell_type": "code",
      "execution_count": null,
      "metadata": {
        "colab": {
          "base_uri": "https://localhost:8080/",
          "height": 791
        },
        "id": "vOH6nD0hRTcB",
        "outputId": "b49825ff-fb3c-403e-df46-b8d3b27bf4a4"
      },
      "outputs": [],
      "source": [
        "meteorites[(meteorites['mass (g)'] > 50) & (meteorites.fall == \"Found\")]"
      ]
    },
    {
      "cell_type": "markdown",
      "metadata": {
        "id": "Cimjob_dRTcB"
      },
      "source": [
        "*Tip: Boolean masks can be used with `loc[]` and `iloc[]`.*"
      ]
    },
    {
      "cell_type": "markdown",
      "metadata": {
        "id": "bNNHUXpsRTcC"
      },
      "source": [
        "## Calculating summary statistics\n",
        "\n",
        "In the next section of this workshop, we will discuss data cleaning for a more meaningful analysis of our datasets; however, we can already extract some interesting insights from the `meteorites` data by calculating summary statistics."
      ]
    },
    {
      "cell_type": "markdown",
      "metadata": {
        "id": "KwmgIhxKRTcC"
      },
      "source": [
        "#### How many of the meteorites were found versus observed falling?"
      ]
    },
    {
      "cell_type": "code",
      "execution_count": null,
      "metadata": {
        "colab": {
          "base_uri": "https://localhost:8080/"
        },
        "id": "pabOpyhPRTcC",
        "outputId": "e931d0cf-e724-4a84-f23c-522b46c38191"
      },
      "outputs": [],
      "source": [
        "meteorites.fall.value_counts(normalize=True)"
      ]
    },
    {
      "cell_type": "markdown",
      "metadata": {
        "id": "PkLbZmy7RTcC"
      },
      "source": [
        "*Tip: Pass in `normalize=True` to see this result as percentages. Check the [documentation](https://pandas.pydata.org/docs/reference/api/pandas.Series.value_counts.html) for additional functionality.*"
      ]
    },
    {
      "cell_type": "markdown",
      "metadata": {
        "id": "fdlMLNSZRTcD"
      },
      "source": [
        "#### What was the mass of the average meterorite?"
      ]
    },
    {
      "cell_type": "code",
      "execution_count": null,
      "metadata": {
        "colab": {
          "base_uri": "https://localhost:8080/"
        },
        "id": "eHMAUjL6RTcD",
        "outputId": "d366fb1d-2e98-4a46-fca1-fc4dd673221f"
      },
      "outputs": [],
      "source": [
        "meteorites['mass (g)'].mean()"
      ]
    },
    {
      "cell_type": "markdown",
      "metadata": {
        "id": "0k3PrcbaRTcD"
      },
      "source": [
        "**Important**: The mean isn't always the best measure of central tendency. If there are outliers in the distribution, the mean will be skewed. Here, the mean is being pulled higher by some very heavy meteorites &ndash; the distribution is [right-skewed](https://www.analyticsvidhya.com/blog/2020/07/what-is-skewness-statistics/)."
      ]
    },
    {
      "cell_type": "markdown",
      "metadata": {
        "id": "KUG0IuH4RTcD"
      },
      "source": [
        "Taking a look at some quantiles at the extremes of the distribution shows that the mean is between the 95th and 99th percentile of the distribution, so it isn't a good measure of central tendency here:"
      ]
    },
    {
      "cell_type": "code",
      "execution_count": null,
      "metadata": {
        "colab": {
          "base_uri": "https://localhost:8080/"
        },
        "id": "4nBW60akRTcD",
        "outputId": "4c5b852b-94fc-44a3-f332-0a55f601cf6f"
      },
      "outputs": [],
      "source": [
        "meteorites['mass (g)'].quantile([.01,.05,.5,.95,.99])"
      ]
    },
    {
      "cell_type": "markdown",
      "metadata": {
        "id": "uqVBzOdbRTcD"
      },
      "source": [
        "A better measure in this case is the median (50th percentile), since it is robust to outliers:"
      ]
    },
    {
      "cell_type": "code",
      "execution_count": null,
      "metadata": {
        "colab": {
          "base_uri": "https://localhost:8080/"
        },
        "id": "eTI6ZpyJRTcD",
        "outputId": "5c0c2a03-a307-4f94-a1ea-f95af0d84777"
      },
      "outputs": [],
      "source": [
        "meteorites['mass (g)'].median()"
      ]
    },
    {
      "cell_type": "markdown",
      "metadata": {
        "id": "0G2xEZj4RTcE"
      },
      "source": [
        "#### What was the mass of the heaviest meteorite?"
      ]
    },
    {
      "cell_type": "code",
      "execution_count": null,
      "metadata": {
        "colab": {
          "base_uri": "https://localhost:8080/"
        },
        "id": "GfTaHNdeRTcE",
        "outputId": "f4549114-fcd5-48f8-9d13-02c22455117b"
      },
      "outputs": [],
      "source": [
        "meteorites['mass (g)'].max()"
      ]
    },
    {
      "cell_type": "markdown",
      "metadata": {
        "id": "P9Z4tpxQRTcE"
      },
      "source": [
        "Let's extract the information on this meteorite:"
      ]
    },
    {
      "cell_type": "code",
      "execution_count": null,
      "metadata": {
        "colab": {
          "base_uri": "https://localhost:8080/"
        },
        "id": "ya1CWhbxRTcE",
        "outputId": "dd6d483a-6325-427d-edd4-49fc9db143b3"
      },
      "outputs": [],
      "source": [
        "meteorites.loc[meteorites['mass (g)'].idxmax()]"
      ]
    },
    {
      "cell_type": "markdown",
      "metadata": {
        "id": "JJ1FTF9mRTcE"
      },
      "source": [
        "#### How many different types of meteorite classes are represented in this dataset?"
      ]
    },
    {
      "cell_type": "code",
      "execution_count": null,
      "metadata": {
        "colab": {
          "base_uri": "https://localhost:8080/"
        },
        "id": "X1D8sCYGRTcF",
        "outputId": "c30154d4-51d3-4830-d14f-7562d08e7d60"
      },
      "outputs": [],
      "source": [
        "meteorites.recclass.nunique()"
      ]
    },
    {
      "cell_type": "markdown",
      "metadata": {
        "id": "snY8gtPMRTcF"
      },
      "source": [
        "Some examples:"
      ]
    },
    {
      "cell_type": "code",
      "execution_count": null,
      "metadata": {
        "colab": {
          "base_uri": "https://localhost:8080/"
        },
        "id": "MdvXsOiNRTcF",
        "outputId": "1bbd3397-1f8e-4a3f-d3f4-a8ced710f856"
      },
      "outputs": [],
      "source": [
        "meteorites.recclass.unique()[:14]"
      ]
    },
    {
      "cell_type": "markdown",
      "metadata": {
        "id": "-0-5xLFURTcF"
      },
      "source": [
        "*Note: All fields preceded with \"rec\" are the values recommended by The Meteoritical Society. Check out [this Wikipedia article](https://en.wikipedia.org/wiki/Meteorite_classification) for some information on meteorite classes.*"
      ]
    },
    {
      "cell_type": "markdown",
      "metadata": {
        "id": "hewdJu1qRTcF"
      },
      "source": [
        "#### Get some summary statistics on the data itself\n",
        "We can get common summary statistics for all columns at once. By default, this will only be numeric columns, but here, we will summarize everything together:"
      ]
    },
    {
      "cell_type": "code",
      "execution_count": null,
      "metadata": {
        "colab": {
          "base_uri": "https://localhost:8080/",
          "height": 449
        },
        "id": "IXAz78IuRTcF",
        "outputId": "33ba3091-952b-4bd7-9053-1001f4645a5a"
      },
      "outputs": [],
      "source": [
        "meteorites.describe(include=\"all\")"
      ]
    },
    {
      "cell_type": "markdown",
      "metadata": {
        "id": "pyNnAutFRTcF"
      },
      "source": [
        "**Important**: `NaN` values signify missing data. For instance, the `fall` column contains strings, so there is no value for `mean`; likewise, `mass (g)` is numeric, so we don't have entries for the categorical summary statistics (`unique`, `top`, `freq`)."
      ]
    },
    {
      "cell_type": "markdown",
      "metadata": {
        "id": "9S5lUS-LRTcG"
      },
      "source": [
        "#### Check out the documentation for more descriptive statistics:\n",
        "\n",
        "- [Series](https://pandas.pydata.org/docs/reference/series.html#computations-descriptive-stats)\n",
        "- [DataFrame](https://pandas.pydata.org/docs/reference/frame.html#computations-descriptive-stats)"
      ]
    },
    {
      "cell_type": "markdown",
      "metadata": {
        "id": "lHUJGrJlRTcG"
      },
      "source": [
        "# Section 2: Data Wrangling\n",
        "\n",
        "To prepare our data for analysis, we need to perform data wrangling. In this section, we will learn how to clean and reformat data (e.g., renaming columns and fixing data type mismatches), restructure/reshape it, and enrich it (e.g., discretizing columns, calculating aggregations, and combining data sources)."
      ]
    },
    {
      "cell_type": "markdown",
      "metadata": {
        "id": "d9ztHgomRTcG"
      },
      "source": [
        "## Data cleaning\n",
        "\n",
        "In this section, we will take a look at creating, renaming, and dropping columns; type conversion; and sorting &ndash; all of which make our analysis easier. We will be working with the 2019 Yellow Taxi Trip Data provided by NYC Open Data."
      ]
    },
    {
      "cell_type": "code",
      "execution_count": null,
      "metadata": {
        "colab": {
          "base_uri": "https://localhost:8080/",
          "height": 444
        },
        "id": "pWva5p4eRTcG",
        "outputId": "1df3468a-5037-4cb8-aaaa-c843f833f08d"
      },
      "outputs": [],
      "source": [
        "taxis = pd.read_csv(\"./data/2019_Yellow_Taxi_Trip_Data.csv\")\n",
        "taxis"
      ]
    },
    {
      "cell_type": "markdown",
      "metadata": {
        "id": "2fBwiw0fRTcG"
      },
      "source": [
        "*Source: [NYC Open Data](https://data.cityofnewyork.us/Transportation/2019-Yellow-Taxi-Trip-Data/2upf-qytp) collected via [SODA](https://dev.socrata.com/foundry/data.cityofnewyork.us/2upf-qytp).*"
      ]
    },
    {
      "cell_type": "markdown",
      "metadata": {
        "id": "QJQ_fpCZRTcG"
      },
      "source": [
        "### Dropping columns\n",
        "Let's start by dropping the ID columns and the `store_and_fwd_flag` column, which we won't be using."
      ]
    },
    {
      "cell_type": "code",
      "execution_count": null,
      "metadata": {
        "colab": {
          "base_uri": "https://localhost:8080/"
        },
        "id": "t-_giHSyRTcH",
        "outputId": "9c985794-a672-4e0b-c7c8-24579e59cd4c"
      },
      "outputs": [],
      "source": [
        "mask = taxis.columns.str.contains('id$|store_and_fwd_flag',regex=True)\n",
        "columns_to_drop = taxis.columns[mask]\n",
        "columns_to_drop"
      ]
    },
    {
      "cell_type": "code",
      "execution_count": null,
      "metadata": {
        "colab": {
          "base_uri": "https://localhost:8080/",
          "height": 226
        },
        "id": "RnlD3AMuRTcH",
        "outputId": "8a755044-cfe2-4365-d2a2-f0fe334d447b"
      },
      "outputs": [],
      "source": [
        "taxis = taxis.drop(columns=columns_to_drop)\n",
        "taxis.head()"
      ]
    },
    {
      "cell_type": "markdown",
      "metadata": {
        "id": "Hb4b_5dxRTcH"
      },
      "source": [
        "*Tip: Another way to do this is to select the columns we want to keep: `taxis.loc[:,~mask]`.*"
      ]
    },
    {
      "cell_type": "markdown",
      "metadata": {
        "id": "jOfuCItcRTcH"
      },
      "source": [
        "### Renaming columns\n",
        "\n",
        "Next, let's rename the datetime columns:"
      ]
    },
    {
      "cell_type": "code",
      "execution_count": null,
      "metadata": {
        "colab": {
          "base_uri": "https://localhost:8080/"
        },
        "id": "uvqYYPJWRTcH",
        "outputId": "8b620fc5-8de4-448d-e2ee-2ecca36d23e3"
      },
      "outputs": [],
      "source": [
        "taxis = taxis.rename(\n",
        "    columns = {'tpep_pickup_datetime':'pickup',\n",
        "               'tpep_dropoff_datetime':'dropoff'}\n",
        ")\n",
        "taxis.columns"
      ]
    },
    {
      "cell_type": "markdown",
      "metadata": {
        "id": "q6dhVU6IRTcH"
      },
      "source": [
        "### Type conversion\n",
        "\n",
        "Notice anything off with the data types?"
      ]
    },
    {
      "cell_type": "code",
      "execution_count": null,
      "metadata": {
        "colab": {
          "base_uri": "https://localhost:8080/"
        },
        "id": "qJMwSn16RTcH",
        "outputId": "9fd7f85c-7a2d-4123-f1c2-810252bbc4ac"
      },
      "outputs": [],
      "source": [
        "taxis.dtypes"
      ]
    },
    {
      "cell_type": "markdown",
      "metadata": {
        "id": "sqfdfWzBRTcI"
      },
      "source": [
        "Both `pickup` and `dropoff` should be stored as datetimes. Let's fix this:"
      ]
    },
    {
      "cell_type": "code",
      "execution_count": null,
      "metadata": {
        "id": "kOWiCTdwRTcI"
      },
      "outputs": [],
      "source": [
        "taxis[['pickup','dropoff']]= taxis[['pickup','dropoff']].apply(pd.to_datetime)"
      ]
    },
    {
      "cell_type": "markdown",
      "metadata": {
        "id": "8xyky3tERTcI"
      },
      "source": [
        "*Tip: There are other ways to perform type conversion. For numeric values, we can use the `pd.to_numeric()` function, and we will see the `astype()` method, which is a more generic method, a little later.*"
      ]
    },
    {
      "cell_type": "code",
      "execution_count": null,
      "metadata": {
        "colab": {
          "base_uri": "https://localhost:8080/",
          "height": 791
        },
        "id": "VlerKlFBkOh-",
        "outputId": "02979ad5-e107-4c1d-ba9c-bb13948d0734"
      },
      "outputs": [],
      "source": [
        "taxis"
      ]
    },
    {
      "cell_type": "markdown",
      "metadata": {
        "id": "dGnlalDXRTcI"
      },
      "source": [
        "### Creating new columns\n",
        "\n",
        "Let's calculate the following for each row:\n",
        "\n",
        "1. elapsed time of the trip\n",
        "2. the tip percentage\n",
        "3. the total taxes, tolls, fees, and surcharges\n",
        "4. the average speed of the taxi"
      ]
    },
    {
      "cell_type": "code",
      "execution_count": null,
      "metadata": {
        "id": "y53ChgqrRTcI"
      },
      "outputs": [],
      "source": [
        "taxis = taxis.assign(\n",
        "    elapsed_time = lambda x: x.dropoff - x.pickup,\n",
        "    cost_before_tip = lambda x: x.total_amount - x.tip_amount,\n",
        "    tip_pct = lambda x: x.tip_amount / x.cost_before_tip,\n",
        "    fees = lambda x: x.cost_before_tip - x.fare_amount,\n",
        "    avg_speed = lambda x: x.trip_distance.div(\n",
        "        x.elapsed_time.dt.total_seconds() / 60 / 60\n",
        "    )\n",
        ")"
      ]
    },
    {
      "cell_type": "markdown",
      "metadata": {
        "id": "EFHMPJXyRTcI"
      },
      "source": [
        "*Tip: New to `lambda` functions? These small, anonymous functions can receive multiple arguments, but can only contain one expression (the return value). You will see these a lot in pandas code. Read more about them [here](https://realpython.com/python-lambda/).*"
      ]
    },
    {
      "cell_type": "markdown",
      "metadata": {
        "id": "hiHaAOPfRTcI"
      },
      "source": [
        "Our new columns get added to the right:"
      ]
    },
    {
      "cell_type": "code",
      "execution_count": null,
      "metadata": {
        "colab": {
          "base_uri": "https://localhost:8080/",
          "height": 202
        },
        "id": "9EIVpRluRTcJ",
        "outputId": "cbc40a08-88be-46ea-ce92-dbcdd76d83ed"
      },
      "outputs": [],
      "source": [
        "taxis.head(2)"
      ]
    },
    {
      "cell_type": "markdown",
      "metadata": {
        "id": "CyP3kfSjRTcJ"
      },
      "source": [
        "Some things to note:\n",
        "- We used `lambda` functions to 1) avoid typing `taxis` repeatedly and 2) be able to access the `cost_before_tip` and `elapsed_time` columns in the same method that we create them.\n",
        "- To create a single new column, we can also use `df['new_col'] = <values>`."
      ]
    },
    {
      "cell_type": "markdown",
      "metadata": {
        "id": "F6EuSOVLRTcJ"
      },
      "source": [
        "### Sorting by values\n",
        "\n",
        "We can use the `sort_values()` method to sort based on any number of columns:"
      ]
    },
    {
      "cell_type": "code",
      "execution_count": null,
      "metadata": {
        "colab": {
          "base_uri": "https://localhost:8080/",
          "height": 400
        },
        "id": "HbEIyA9ERTcJ",
        "outputId": "fb9170cc-f12a-4230-fd0d-af1f1bb76f4d"
      },
      "outputs": [],
      "source": [
        "taxis.sort_values(['passenger_count','pickup'],ascending=[False,True]).head()"
      ]
    },
    {
      "cell_type": "markdown",
      "metadata": {
        "id": "DZKPXH8xRTcJ"
      },
      "source": [
        "To pick out the largest/smallest rows, use `nlargest()` / `nsmallest()` instead. Looking at the 3 trips with the longest elapsed time, we see some possible data integrity issues:"
      ]
    },
    {
      "cell_type": "code",
      "execution_count": null,
      "metadata": {
        "colab": {
          "base_uri": "https://localhost:8080/",
          "height": 268
        },
        "id": "b4i0ae-hRTcJ",
        "outputId": "bf2b2599-1790-403b-e70b-f36ca6cdcd0b"
      },
      "outputs": [],
      "source": [
        "taxis.nlargest(3,'elapsed_time')"
      ]
    },
    {
      "cell_type": "markdown",
      "metadata": {
        "id": "iodoSSzxRTcK"
      },
      "source": [
        "## Working with the index\n",
        "\n",
        "So far, we haven't really worked with the index because it's just been a row number; however, we can change the values we have in the index to access additional features of the pandas library."
      ]
    },
    {
      "cell_type": "markdown",
      "metadata": {
        "id": "8cVG3ABNRTcK"
      },
      "source": [
        "### Setting and sorting the index\n",
        "\n",
        "Currently, we have a RangeIndex, but we can switch to a DatetimeIndex by specifying a datetime column when calling `set_index()`:"
      ]
    },
    {
      "cell_type": "code",
      "execution_count": null,
      "metadata": {
        "colab": {
          "base_uri": "https://localhost:8080/",
          "height": 299
        },
        "id": "cdjsB8vfRTcK",
        "outputId": "a54e37d1-5bff-41dc-e1dc-fdaba397a9d2"
      },
      "outputs": [],
      "source": [
        "taxis = taxis.set_index('pickup')\n",
        "taxis.head(3)"
      ]
    },
    {
      "cell_type": "markdown",
      "metadata": {
        "id": "865rml2iRTcK"
      },
      "source": [
        "Since we have a sample of the full dataset, let's sort the index to order by pickup time:"
      ]
    },
    {
      "cell_type": "code",
      "execution_count": null,
      "metadata": {
        "colab": {
          "base_uri": "https://localhost:8080/",
          "height": 822
        },
        "id": "GAXFvBaWRTcK",
        "outputId": "82787764-fea0-41e0-cc1c-2150676b15cd"
      },
      "outputs": [],
      "source": [
        "taxis = taxis.sort_index()\n",
        "taxis"
      ]
    },
    {
      "cell_type": "markdown",
      "metadata": {
        "id": "vPtdW_6YRTcK"
      },
      "source": [
        "*Tip: `taxis.sort_index(axis=1)` will sort the columns by name. The `axis` parameter is present throughout the pandas library: `axis=0` targets rows and `axis=1` targets columns.*"
      ]
    },
    {
      "cell_type": "markdown",
      "metadata": {
        "id": "VnxhfYTfRTcK"
      },
      "source": [
        "We can now select ranges from our data based on the datetime the same way we did with row numbers:"
      ]
    },
    {
      "cell_type": "code",
      "execution_count": null,
      "metadata": {
        "colab": {
          "base_uri": "https://localhost:8080/",
          "height": 299
        },
        "id": "IhkTPvakRTcL",
        "outputId": "800236be-26b2-4a26-e08b-6e6f15cdebf7"
      },
      "outputs": [],
      "source": [
        "taxis['2019-10-23 07:45':'2019-10-23 08']"
      ]
    },
    {
      "cell_type": "markdown",
      "metadata": {
        "id": "1pKuR1uoRTcL"
      },
      "source": [
        "When not specifying a range, we use `loc[]`:"
      ]
    },
    {
      "cell_type": "code",
      "execution_count": null,
      "metadata": {
        "colab": {
          "base_uri": "https://localhost:8080/",
          "height": 233
        },
        "id": "TgoWy6qXRTcL",
        "outputId": "24d2cbce-e433-4097-afdf-7269ff160c8d"
      },
      "outputs": [],
      "source": [
        "taxis.loc['2019-10-23 08']"
      ]
    },
    {
      "cell_type": "markdown",
      "metadata": {
        "id": "Egy26jqNRTcL"
      },
      "source": [
        "### Resetting the index\n",
        "\n",
        "We will be working with time series later this section, but sometimes we want to reset our index to row numbers and restore the columns. We can make `pickup` a column again with the `reset_index()` method:"
      ]
    },
    {
      "cell_type": "code",
      "execution_count": null,
      "metadata": {
        "colab": {
          "base_uri": "https://localhost:8080/",
          "height": 400
        },
        "id": "ZPaZPmVFRTcL",
        "outputId": "93858620-b188-4bcf-c0fa-9ca0abb7ae76"
      },
      "outputs": [],
      "source": [
        "taxis = taxis.reset_index()\n",
        "taxis.head()"
      ]
    },
    {
      "cell_type": "markdown",
      "metadata": {
        "id": "dyfkqZtdRTcL"
      },
      "source": [
        "## Reshaping data\n",
        "\n",
        "The taxi dataset we have be working with is in a format conducive to an analysis. This isn't always the case. Let's now take a look at the TSA traveler throughput data, which compares 2021 throughput to the same day in 2020 and 2019:"
      ]
    },
    {
      "cell_type": "code",
      "execution_count": null,
      "metadata": {
        "colab": {
          "base_uri": "https://localhost:8080/",
          "height": 206
        },
        "id": "FS_qnSlARTcM",
        "outputId": "3efde000-4b23-4c2a-ea6b-adab0004d275"
      },
      "outputs": [],
      "source": [
        "tsa = pd.read_csv(\"./data/tsa_passenger_throughput.csv\",parse_dates=[\"Date\"])\n",
        "tsa.head()"
      ]
    },
    {
      "cell_type": "markdown",
      "metadata": {
        "id": "6ItrQhJ4RTcM"
      },
      "source": [
        "*Source: [TSA.gov](https://www.tsa.gov/coronavirus/passenger-throughput)*"
      ]
    },
    {
      "cell_type": "markdown",
      "metadata": {
        "id": "BpCBEiVqRTcM"
      },
      "source": [
        "First, we will lowercase the column names and take the first word (e.g., `2021` for `2021 Traveler Throughput`) to make this easier to work with:"
      ]
    },
    {
      "cell_type": "code",
      "execution_count": null,
      "metadata": {
        "colab": {
          "base_uri": "https://localhost:8080/",
          "height": 206
        },
        "id": "a6U_RpBCRTcM",
        "outputId": "0f1ccbd0-7b89-40a2-e034-88d4dc6abc7c"
      },
      "outputs": [],
      "source": [
        "tsa = tsa.rename(columns = lambda x: x.lower().split()[0])\n",
        "tsa.head()"
      ]
    },
    {
      "cell_type": "markdown",
      "metadata": {
        "id": "FNb9n2pPRTcM"
      },
      "source": [
        "Now, we can work on reshaping it."
      ]
    },
    {
      "cell_type": "markdown",
      "metadata": {
        "id": "KiEjJHycRTcM"
      },
      "source": [
        "### Melting\n",
        "\n",
        "Melting helps convert our data into long format. Now, we have all the traveler throughput numbers in a single column:"
      ]
    },
    {
      "cell_type": "code",
      "execution_count": null,
      "metadata": {
        "colab": {
          "base_uri": "https://localhost:8080/",
          "height": 206
        },
        "id": "oCUsD_xnRTcM",
        "outputId": "ebedb738-e28b-4bbf-be90-7b64931b7f27"
      },
      "outputs": [],
      "source": [
        "tsa_melted = tsa.melt(\n",
        "    id_vars = \"date\", #column that uniquely identifies a row\n",
        "    var_name = \"year\", # name for the new column created by melting\n",
        "    value_name = \"travelers\" #name for new column containing values from melted columns\n",
        ")\n",
        "tsa_melted.sample(5,random_state=1)"
      ]
    },
    {
      "cell_type": "markdown",
      "metadata": {
        "id": "Iw_7Q5wsRTcM"
      },
      "source": [
        "To convert this into a time series of traveler throughput, we need to replace the year in the `date` column with the one in the `year` column. Otherwise, we are marking prior years' numbers with the wrong year."
      ]
    },
    {
      "cell_type": "code",
      "execution_count": null,
      "metadata": {
        "colab": {
          "base_uri": "https://localhost:8080/",
          "height": 206
        },
        "id": "ADsyHcggRTcN",
        "outputId": "a60fe6f2-48cd-487e-b801-a77d40cc8f0e"
      },
      "outputs": [],
      "source": [
        "tsa_melted = tsa_melted.assign(\n",
        "    date = lambda x: pd.to_datetime(x.year + x.date.dt.strftime('-%m-%d'))\n",
        ")\n",
        "tsa_melted.sample(5,random_state=1)"
      ]
    },
    {
      "cell_type": "markdown",
      "metadata": {
        "id": "Kkf_vIX6RTcN"
      },
      "source": [
        "This leaves us with some null values (the dates that aren't present in the dataset):"
      ]
    },
    {
      "cell_type": "code",
      "execution_count": null,
      "metadata": {
        "colab": {
          "base_uri": "https://localhost:8080/",
          "height": 143
        },
        "id": "tPq0AJLFRTcN",
        "outputId": "72852f3f-eb26-46cc-c7a8-ed002b992024"
      },
      "outputs": [],
      "source": [
        "tsa_melted.sort_values('date').tail(3)"
      ]
    },
    {
      "cell_type": "markdown",
      "metadata": {
        "id": "F5ry0XEARTcN"
      },
      "source": [
        "These can be dropped with the `dropna()` method:"
      ]
    },
    {
      "cell_type": "code",
      "execution_count": null,
      "metadata": {
        "colab": {
          "base_uri": "https://localhost:8080/",
          "height": 143
        },
        "id": "FQBzYguvRTcN",
        "outputId": "1217a9c4-b636-4d57-d551-10e6517ecfc6"
      },
      "outputs": [],
      "source": [
        "tsa_melted = tsa_melted.dropna()\n",
        "tsa_melted.sort_values(\"date\").tail(3)"
      ]
    },
    {
      "cell_type": "markdown",
      "metadata": {
        "id": "s_HnIuu-RTcN"
      },
      "source": [
        "### Pivoting\n",
        "\n",
        "Using the melted data, we can pivot the data to compare TSA traveler throughput on specific days across years:"
      ]
    },
    {
      "cell_type": "code",
      "execution_count": null,
      "metadata": {
        "colab": {
          "base_uri": "https://localhost:8080/",
          "height": 195
        },
        "id": "DklUYvZ5RTcN",
        "outputId": "59c21b88-d064-4109-ab96-1a71629a1a16"
      },
      "outputs": [],
      "source": [
        "tsa_pivoted = tsa_melted\\\n",
        "  .query('date.dt.month == 3 and date.dt.day < 10')\\\n",
        "  .assign(day_in_march=lambda x: x.date.dt.day)\\\n",
        "  .pivot(index=\"year\",columns = \"day_in_march\",values=\"travelers\")\n",
        "\n",
        "tsa_pivoted"
      ]
    },
    {
      "cell_type": "code",
      "execution_count": null,
      "metadata": {
        "colab": {
          "base_uri": "https://localhost:8080/",
          "height": 163
        },
        "id": "UVt_94hz_HxW",
        "outputId": "f68e17cf-268c-4d75-eae4-c8c6ecc41a7d"
      },
      "outputs": [],
      "source": [
        "tsa_pivoted.reset_index()"
      ]
    },
    {
      "cell_type": "markdown",
      "metadata": {
        "id": "tJNKv6gVRTcN"
      },
      "source": [
        "**Important**: We aren't covering the `unstack()` and `stack()` methods, which are additional ways to pivot and melt, respectively. These come in handy when we have a multi-level index (e.g., if we ran `set_index()` with more than one column). More information can be found [here](https://pandas.pydata.org/pandas-docs/stable/user_guide/reshaping.html)."
      ]
    },
    {
      "cell_type": "markdown",
      "metadata": {
        "id": "d4MmsZtSRTcO"
      },
      "source": [
        "### Transposing\n",
        "\n",
        "The `T` attribute provides a quick way to flip rows and columns."
      ]
    },
    {
      "cell_type": "code",
      "execution_count": null,
      "metadata": {
        "colab": {
          "base_uri": "https://localhost:8080/",
          "height": 363
        },
        "id": "O39k_4GLRTcO",
        "outputId": "957c1fe8-b941-4614-af78-bfda88e6f125"
      },
      "outputs": [],
      "source": [
        "tsa_pivoted.T"
      ]
    },
    {
      "cell_type": "markdown",
      "metadata": {
        "id": "DZ3ilQSTRTcO"
      },
      "source": [
        "### Merging\n",
        "\n",
        "We typically observe changes in air travel around the holidays, so adding information about the dates in the TSA dataset provides more context. The `holidays.csv` file contains a few major holidays in the United States:"
      ]
    },
    {
      "cell_type": "code",
      "execution_count": null,
      "metadata": {
        "colab": {
          "base_uri": "https://localhost:8080/",
          "height": 332
        },
        "id": "ClByHe3NRTcO",
        "outputId": "5d05d4d2-4d8a-4580-cf1e-437c1a4d8a8c"
      },
      "outputs": [],
      "source": [
        "holidays = pd.read_csv(\"./data/holidays.csv\",parse_dates = True, index_col = \"date\")\n",
        "holidays.loc['2019']"
      ]
    },
    {
      "cell_type": "markdown",
      "metadata": {
        "id": "Hk2pplMcRTcO"
      },
      "source": [
        "Merging the holidays with the TSA traveler throughput data will provide more context for our analysis:"
      ]
    },
    {
      "cell_type": "code",
      "execution_count": null,
      "metadata": {
        "colab": {
          "base_uri": "https://localhost:8080/",
          "height": 206
        },
        "id": "PZBCiUdSRTcO",
        "outputId": "5e522e91-13af-4787-f687-9a853b3477a5"
      },
      "outputs": [],
      "source": [
        "tsa_melted_holidays = tsa_melted\\\n",
        "  .merge(holidays,left_on=\"date\",right_index = True,how=\"left\")\\\n",
        "  .sort_values('date')\n",
        "\n",
        "tsa_melted_holidays.head()"
      ]
    },
    {
      "cell_type": "markdown",
      "metadata": {
        "id": "sH8xsWfmRTcO"
      },
      "source": [
        "*Tip: There are many parameters for this method, so be sure to check out the [documentation](https://pandas.pydata.org/pandas-docs/stable/reference/api/pandas.DataFrame.merge.html). To append rows, take a look at the `pd.concat()` function.*"
      ]
    },
    {
      "cell_type": "markdown",
      "metadata": {
        "id": "eGAhrgNHRTcP"
      },
      "source": [
        "We can take this a step further by marking a few days before and after each holiday as part of the holiday. This would make it easier to compare holiday travel across years and look for any uptick in travel around the holidays:"
      ]
    },
    {
      "cell_type": "code",
      "execution_count": null,
      "metadata": {
        "id": "uzoMeOftRTcP"
      },
      "outputs": [],
      "source": [
        "tsa_melted_holiday_travel = tsa_melted_holidays.assign(\n",
        "    holiday = lambda x:\n",
        "      x.holiday\\\n",
        "        .fillna(method=\"ffill\",limit=1)\\\n",
        "        .fillna(method=\"bfill\", limit = 2)\n",
        ")"
      ]
    },
    {
      "cell_type": "code",
      "execution_count": null,
      "metadata": {
        "colab": {
          "base_uri": "https://localhost:8080/",
          "height": 424
        },
        "id": "gVoI4tq8CTFd",
        "outputId": "8de771f1-6fdb-40fa-c648-b79da0ee8c81"
      },
      "outputs": [],
      "source": [
        "tsa_melted_holiday_travel"
      ]
    },
    {
      "cell_type": "markdown",
      "metadata": {
        "id": "MkNABpZ1RTcP"
      },
      "source": [
        "*Tip: Check out the [documentation](https://pandas.pydata.org/pandas-docs/stable/reference/api/pandas.DataFrame.fillna.html) for the full list of functionality available with the `fillna()` method.*"
      ]
    },
    {
      "cell_type": "markdown",
      "metadata": {
        "id": "vcbIkbMuRTcP"
      },
      "source": [
        "Notice that we now have values for the day after each holiday and the two days prior. Thanksgiving in 2019 was on November 28th, so the 26th, 27th, and 29th were filled. Since we are only replacing null values, we don't override Christmas Day with the forward fill of Christmas Eve:"
      ]
    },
    {
      "cell_type": "code",
      "execution_count": null,
      "metadata": {
        "colab": {
          "base_uri": "https://localhost:8080/",
          "height": 269
        },
        "id": "UOWUmfsjRTcP",
        "outputId": "8cbaaef1-171d-4b96-845f-52dfa4de6d3d"
      },
      "outputs": [],
      "source": [
        "#tsa_melted_holiday_travel.query(\n",
        "#    'year == \"2019\" and '\n",
        "#    '(holiday== \"Thanksgiving\" or holiday.str.contains(\"Christmas\"))'\n",
        "#)\n",
        "\n",
        "tsa_melted_holiday_travel[(tsa_melted_holiday_travel.year==\"2019\") &\n",
        "                          (tsa_melted_holiday_travel.holiday.isin([\"Christmas Eve\",\"Thanksgiving\"]))]"
      ]
    },
    {
      "cell_type": "markdown",
      "metadata": {
        "id": "tTnCKu_fRTcP"
      },
      "source": [
        "## Aggregations and grouping\n",
        "\n",
        "After reshaping and cleaning our data, we can perform aggregations to summarize it in a variety of ways. In this section, we will explore using pivot tables, crosstabs, and group by operations to aggregate the data."
      ]
    },
    {
      "cell_type": "markdown",
      "metadata": {
        "id": "5y5PtvorRTcP"
      },
      "source": [
        "### Pivot tables\n",
        "We can build a pivot table to compare holiday travel across the years in our dataset:"
      ]
    },
    {
      "cell_type": "code",
      "execution_count": null,
      "metadata": {
        "colab": {
          "base_uri": "https://localhost:8080/",
          "height": 210
        },
        "id": "AJ1MzBZURTcQ",
        "outputId": "a08c01c4-ac55-4cb4-ab8e-61d1b47cf245"
      },
      "outputs": [],
      "source": [
        "tsa_melted_holiday_travel.pivot_table(\n",
        "    index='year',columns='holiday',\n",
        "    values='travelers',aggfunc='sum')"
      ]
    },
    {
      "cell_type": "markdown",
      "metadata": {
        "id": "VfBNQJ_ORTcQ"
      },
      "source": [
        "We can use the `pct_change()` method on this result to see which holiday travel periods saw the biggest change in travel:"
      ]
    },
    {
      "cell_type": "code",
      "execution_count": null,
      "metadata": {
        "colab": {
          "base_uri": "https://localhost:8080/",
          "height": 210
        },
        "id": "JLXouEBjRTcQ",
        "outputId": "b1c0feb6-21dc-4686-824c-9bd30b58ccbd"
      },
      "outputs": [],
      "source": [
        "tsa_melted_holiday_travel.pivot_table(\n",
        "    index='year',columns='holiday',\n",
        "    values='travelers',aggfunc='sum').pct_change()"
      ]
    },
    {
      "cell_type": "markdown",
      "metadata": {
        "id": "4a32ago9RTcQ"
      },
      "source": [
        "Let's make one last pivot table with column and row subtotals, along with some formatting improvements. First, we set a display option for all floats:"
      ]
    },
    {
      "cell_type": "code",
      "execution_count": null,
      "metadata": {
        "id": "0RNHDJfERTcQ"
      },
      "outputs": [],
      "source": [
        "pd.set_option(\"display.float_format\",'{:,.0f}'.format)"
      ]
    },
    {
      "cell_type": "markdown",
      "metadata": {
        "id": "LzZb9j81RTcQ"
      },
      "source": [
        "Next, we group together Christmas Eve and Christmas Day, likewise for New Year's Eve and New Year's Day, and create the pivot table:"
      ]
    },
    {
      "cell_type": "code",
      "execution_count": null,
      "metadata": {
        "colab": {
          "base_uri": "https://localhost:8080/",
          "height": 206
        },
        "id": "CWIMXu8HRTcR",
        "outputId": "e5a3b5ee-35c4-4ec8-9bb8-5291ade654c6"
      },
      "outputs": [],
      "source": [
        "import numpy as np\n",
        "\n",
        "tsa_melted_holiday_travel.assign(\n",
        "    holiday = lambda x: np.where(\n",
        "       x.holiday.str.contains(\"Christmas|New Year\",regex=True),\n",
        "       x.holiday.str.replace('Day|Eve','',regex=True).str.strip(),\n",
        "       x.holiday\n",
        "    )\n",
        ").pivot_table(\n",
        "    index='year',columns='holiday',\n",
        "    values='travelers',aggfunc='sum',\n",
        "    margins=True,margins_name=\"Total\"\n",
        ")"
      ]
    },
    {
      "cell_type": "markdown",
      "metadata": {
        "id": "Syf3m8_wRTcR"
      },
      "source": [
        "Before moving on, let's reset the display option:"
      ]
    },
    {
      "cell_type": "code",
      "execution_count": null,
      "metadata": {
        "id": "0NjgjV3hRTcR"
      },
      "outputs": [],
      "source": [
        "pd.reset_option('display.float_format')"
      ]
    },
    {
      "cell_type": "markdown",
      "metadata": {
        "id": "qK88AcuzRTcR"
      },
      "source": [
        "*Tip: Read more about options in the documentation [here](https://pandas.pydata.org/pandas-docs/stable/user_guide/options.html).*"
      ]
    },
    {
      "cell_type": "markdown",
      "metadata": {
        "id": "qdqKRG2ARTcR"
      },
      "source": [
        "### Crosstabs\n",
        "The `pd.crosstab()` function provides an easy way to create a frequency table. Here, we count the number of low-, medium-, and high-volume travel days per year, using the `pd.cut()` function to create three travel volume bins of equal width:"
      ]
    },
    {
      "cell_type": "code",
      "execution_count": null,
      "metadata": {
        "colab": {
          "base_uri": "https://localhost:8080/",
          "height": 175
        },
        "id": "xagaTfT1RTcR",
        "outputId": "20763976-4d37-4144-9a5c-099549f77fb3"
      },
      "outputs": [],
      "source": [
        "pd.crosstab(\n",
        "    index = pd.cut(tsa_melted_holiday_travel.travelers,\n",
        "                   bins=3, labels=['low','medium','high']\n",
        "                   ),\n",
        "    columns = tsa_melted_holiday_travel.year,\n",
        "    rownames = ['travel_volume']\n",
        ")"
      ]
    },
    {
      "cell_type": "markdown",
      "metadata": {
        "id": "tYhw-8tRRTcR"
      },
      "source": [
        "*Tip: The `pd.cut()` function can also be used to specify custom bin ranges. For equal-sized bins based on quantiles, use the `pd.qcut()` function instead.*"
      ]
    },
    {
      "cell_type": "markdown",
      "metadata": {
        "id": "cowwbXWBRTcS"
      },
      "source": [
        "Note that the `pd.crosstab()` function supports other aggregations provided you pass in the data to aggregate as `values` and specify the aggregation with `aggfunc`. You can also add subtotals and normalize the data. See the [documentation](https://pandas.pydata.org/pandas-docs/stable/reference/api/pandas.crosstab.html) for more information."
      ]
    },
    {
      "cell_type": "markdown",
      "metadata": {
        "id": "2KSyfR37RTcS"
      },
      "source": [
        "### Group by operations\n",
        "Rather than perform aggregations, like `mean()` or `describe()`, on the full dataset at once, we can perform these calculations per group by first calling `groupby()`:"
      ]
    },
    {
      "cell_type": "code",
      "execution_count": null,
      "metadata": {
        "colab": {
          "base_uri": "https://localhost:8080/",
          "height": 206
        },
        "id": "Sy6LbyGQRTcS",
        "outputId": "8162833a-873f-4492-d567-2c41a59b58d0"
      },
      "outputs": [],
      "source": [
        "import numpy as np\n",
        "tsa_melted_holiday_travel.groupby(\"year\").describe(include=np.number)"
      ]
    },
    {
      "cell_type": "markdown",
      "metadata": {
        "id": "H3LZ1WRmRTcS"
      },
      "source": [
        "Groups can also be used to perform separate calculations per subset of the data. For example, we can find the highest-volume travel day per year using `rank()`:"
      ]
    },
    {
      "cell_type": "code",
      "execution_count": null,
      "metadata": {
        "colab": {
          "base_uri": "https://localhost:8080/",
          "height": 143
        },
        "id": "FMtodiPVRTcS",
        "outputId": "381542f6-9baa-41c6-d6b3-3a45dbdafe47"
      },
      "outputs": [],
      "source": [
        "tsa_melted_holiday_travel.assign(\n",
        "    travel_volume_rank = lambda x: x.groupby(\"year\").travelers.rank(ascending=False)\n",
        ").sort_values(['travel_volume_rank',\"year\"]).head(3)\n"
      ]
    },
    {
      "cell_type": "markdown",
      "metadata": {
        "id": "z3mF-wY-RTcS"
      },
      "source": [
        "The previous two examples called a single method on the grouped data, but using the `agg()` method we can specify any number of them:"
      ]
    },
    {
      "cell_type": "code",
      "execution_count": null,
      "metadata": {
        "colab": {
          "base_uri": "https://localhost:8080/",
          "height": 206
        },
        "id": "ZV1aLHX4RTcT",
        "outputId": "1db5ee4f-6794-4a17-e379-ccde4399fb52"
      },
      "outputs": [],
      "source": [
        "tsa_melted_holiday_travel.assign(\n",
        "    holiday_travelers = lambda x:np.where(~x.holiday.isna(),x.travelers, np.nan),\n",
        "    non_holiday_travelers = lambda x: np.where(x.holiday.isna(),x.travelers,np.nan),\n",
        "    year = lambda x: pd.to_numeric(x.year)\n",
        ").select_dtypes(include=\"number\").groupby(\"year\").agg(['mean','std'])"
      ]
    },
    {
      "cell_type": "markdown",
      "metadata": {
        "id": "GuBPW4fARTcT"
      },
      "source": [
        "*Tip: The `select_dtypes()` method makes it possible to select columns by their data type. We can specify the data types to `exclude` and/or `include`.*"
      ]
    },
    {
      "cell_type": "markdown",
      "metadata": {
        "id": "-0xaKeHtRTcT"
      },
      "source": [
        "In addition, we can specify which aggregations to perform on each column:"
      ]
    },
    {
      "cell_type": "code",
      "execution_count": null,
      "metadata": {
        "colab": {
          "base_uri": "https://localhost:8080/",
          "height": 206
        },
        "id": "nljPNmL5RTcT",
        "outputId": "8d6937e9-0671-41bb-cc88-3b5869f2f572"
      },
      "outputs": [],
      "source": [
        "tsa_melted_holiday_travel.assign(\n",
        "    holiday_travelers = lambda x:np.where(~x.holiday.isna(),x.travelers, np.nan),\n",
        "    non_holiday_travelers = lambda x: np.where(x.holiday.isna(),x.travelers,np.nan),\n",
        "    year = lambda x: pd.to_numeric(x.year)\n",
        ").groupby(\"year\").agg({\n",
        "    'holiday_travelers':['mean','std'],\n",
        "    'holiday':['nunique','count']\n",
        "})"
      ]
    },
    {
      "cell_type": "markdown",
      "metadata": {
        "id": "mJ0JMNeCRTcT"
      },
      "source": [
        "We are only scratching the surface; some additional functionalities to be aware of include the following:\n",
        "- We can group by multiple columns &ndash; this creates a hierarchical index.\n",
        "- Groups can be excluded from calculations with the `filter()` method.\n",
        "- We can group on content in the index using the `level` or `name` parameters e.g., `groupby(level=0)` or `groupby(name='year')`.\n",
        "- We can group by date ranges if we use a `pd.Grouper()` object."
      ]
    },
    {
      "cell_type": "markdown",
      "metadata": {
        "id": "XG9hIxQLRTcT"
      },
      "source": [
        "Be sure to check out the [documentation](https://pandas.pydata.org/pandas-docs/stable/reference/api/pandas.DataFrame.groupby.html) for more details."
      ]
    },
    {
      "cell_type": "markdown",
      "metadata": {
        "id": "1V-PuGyMRTcU"
      },
      "source": [
        "## Time series\n",
        "\n",
        "When working with time series data, pandas provides us with additional functionality to not just compare the observations in our dataset, but to use their relationship in time to analyze the data. In this section, we will see a few such operations for selecting date/time ranges, calculating changes over time, performing window calculations, and resampling the data to different date/time intervals."
      ]
    },
    {
      "cell_type": "markdown",
      "metadata": {
        "id": "56XWHIP7RTcU"
      },
      "source": [
        "### Selecting based on date and time\n",
        "\n",
        "Let's switch back to the `taxis` dataset, which has timestamps of pickups and dropoffs. First, we will set the `dropoff` column as the index and sort the data:"
      ]
    },
    {
      "cell_type": "code",
      "execution_count": null,
      "metadata": {
        "id": "GlZShpR-RTcU"
      },
      "outputs": [],
      "source": [
        "taxis = taxis.set_index(\"dropoff\").sort_index()"
      ]
    },
    {
      "cell_type": "markdown",
      "metadata": {
        "id": "zQMXxw2fRTcU"
      },
      "source": [
        "We saw earlier that we can slice on the datetimes:"
      ]
    },
    {
      "cell_type": "code",
      "execution_count": null,
      "metadata": {
        "colab": {
          "base_uri": "https://localhost:8080/",
          "height": 233
        },
        "id": "KxqQSucGRTcU",
        "outputId": "abd60c19-e34c-4d97-e072-dad3cbfdca25"
      },
      "outputs": [],
      "source": [
        "taxis['2019-10-24 12':'2019-10-24 13']"
      ]
    },
    {
      "cell_type": "markdown",
      "metadata": {
        "id": "omwyWH7gRTcU"
      },
      "source": [
        "We can also represent this range with shorthand. Note that we must use `loc[]` here:"
      ]
    },
    {
      "cell_type": "code",
      "execution_count": null,
      "metadata": {
        "colab": {
          "base_uri": "https://localhost:8080/",
          "height": 233
        },
        "id": "CT7Q6KzFRTcU",
        "outputId": "c2a4333f-196d-4393-c4e3-c75795097ae0"
      },
      "outputs": [],
      "source": [
        "taxis.loc['2019-10-24 12']"
      ]
    },
    {
      "cell_type": "markdown",
      "metadata": {
        "id": "iQVSD39nRTcU"
      },
      "source": [
        "However, if we want to look at this time range across days, we need another strategy."
      ]
    },
    {
      "cell_type": "markdown",
      "metadata": {
        "id": "Kgx0TH5zRTcV"
      },
      "source": [
        "We can pull out the dropoffs that happened between a certain time range on *any* day with the `between_time()` method:"
      ]
    },
    {
      "cell_type": "code",
      "execution_count": null,
      "metadata": {
        "colab": {
          "base_uri": "https://localhost:8080/",
          "height": 299
        },
        "id": "sB_stiseRTcV",
        "outputId": "bce02cc7-a16d-4018-bdaf-11cb5812ea1c"
      },
      "outputs": [],
      "source": [
        "taxis.between_time('12:00','13:00')"
      ]
    },
    {
      "cell_type": "markdown",
      "metadata": {
        "id": "S701Vz9FRTcV"
      },
      "source": [
        "*Tip: The `at_time()` method can be used to extract all entries at a given time (e.g., 12:35:27).*"
      ]
    },
    {
      "cell_type": "markdown",
      "metadata": {
        "id": "tHzc8buERTcV"
      },
      "source": [
        "Finally, `head()` and `tail()` limit us to a number of rows, but we may be interested in rows within the first/last 2 hours (or any other time interval) of the data, in which case, we should use `first()` / `last()`:"
      ]
    },
    {
      "cell_type": "code",
      "execution_count": null,
      "metadata": {
        "colab": {
          "base_uri": "https://localhost:8080/",
          "height": 431
        },
        "id": "cB_4uItyRTcV",
        "outputId": "323e326f-fce1-4268-ce1c-1f5b1b9bd9a1"
      },
      "outputs": [],
      "source": [
        "taxis.first('2H')"
      ]
    },
    {
      "cell_type": "markdown",
      "metadata": {
        "id": "eJOnV9JtRTcV"
      },
      "source": [
        "*Tip: Available date/time offsets can be found in the pandas documentation [here](https://pandas.pydata.org/pandas-docs/stable/user_guide/timeseries.html#dateoffset-objects).*"
      ]
    },
    {
      "cell_type": "markdown",
      "metadata": {
        "id": "W_Y1cwsqRTcV"
      },
      "source": [
        "For the rest of this section, we will be working with the TSA traveler throughput data. Let's start by setting the index to the `date` column:"
      ]
    },
    {
      "cell_type": "code",
      "execution_count": null,
      "metadata": {
        "id": "YnpJrOg_RTcV"
      },
      "outputs": [],
      "source": [
        "tsa_melted_holiday_travel = tsa_melted_holiday_travel.set_index(\"date\")"
      ]
    },
    {
      "cell_type": "markdown",
      "metadata": {
        "id": "NH6XBe8yRTcW"
      },
      "source": [
        "### Calculating change over time"
      ]
    },
    {
      "cell_type": "code",
      "execution_count": null,
      "metadata": {
        "colab": {
          "base_uri": "https://localhost:8080/",
          "height": 394
        },
        "id": "_up7T0KFRTcW",
        "outputId": "d9c0e3b6-d30b-4d91-f952-fa3026ae98ea"
      },
      "outputs": [],
      "source": [
        "tsa_melted_holiday_travel.loc['2020'].assign(\n",
        "    one_day_change = lambda x: x.travelers.diff(),\n",
        "    seven_day_change=lambda x: x.travelers.diff(7)\n",
        ").head(10)"
      ]
    },
    {
      "cell_type": "markdown",
      "metadata": {
        "id": "NVF9zHr7RTcW"
      },
      "source": [
        "*Tip: To perform operations other than subtraction, take a look at the `shift()` method. It also makes it possible to perform operations across columns.*"
      ]
    },
    {
      "cell_type": "markdown",
      "metadata": {
        "id": "ffQltJvhRTcW"
      },
      "source": [
        "### Resampling\n",
        "We can use resampling to aggregate time series data to a new frequency:"
      ]
    },
    {
      "cell_type": "code",
      "execution_count": null,
      "metadata": {
        "colab": {
          "base_uri": "https://localhost:8080/",
          "height": 394
        },
        "id": "UjLZZ7rdRTcW",
        "outputId": "0b8cae35-7635-4b21-b7e6-13db7b61cb20"
      },
      "outputs": [],
      "source": [
        "tsa_melted_holiday_travel['2019':'2021-Q1'].select_dtypes(include=\"number\")\\\n",
        "  .resample(\"Q\").agg(['sum','mean','std'])\n"
      ]
    },
    {
      "cell_type": "markdown",
      "metadata": {
        "id": "6CgXu_klRTcW"
      },
      "source": [
        "### Window calculations\n",
        "\n",
        "Window calculations are similar to group by calculations except the group over which the calculation is performed isn't static &ndash; it can move or expand. Pandas provides functionality for constructing a variety of windows, including moving/rolling windows, expanding windows (e.g., cumulative sum or mean up to the current date in a time series), and exponentially weighted moving windows (to weight closer observations more than further ones). We will only look at rolling and expanding calculations here."
      ]
    },
    {
      "cell_type": "markdown",
      "metadata": {
        "id": "TJCTf_WyRTcW"
      },
      "source": [
        "Performing a window calculation is very similar to a group by calculation &ndash; we first define the window, and then we specify the aggregation:"
      ]
    },
    {
      "cell_type": "code",
      "execution_count": null,
      "metadata": {
        "colab": {
          "base_uri": "https://localhost:8080/",
          "height": 238
        },
        "id": "JbG-gTfLRTcX",
        "outputId": "96d81cc0-3241-437d-df16-5f04469bf36c"
      },
      "outputs": [],
      "source": [
        "tsa_melted_holiday_travel.loc['2020'].assign(\n",
        "    **{\n",
        "        '7D MA':lambda x: x.rolling('7D').travelers.mean(),\n",
        "        'YTD mean': lambda x: x.expanding().travelers.mean()\n",
        "    }\n",
        ").head()"
      ]
    },
    {
      "cell_type": "markdown",
      "metadata": {
        "id": "3EFbB5s1RTcX"
      },
      "source": [
        "To understand what's happening, it's best to visualize the original data and the result, so here's a sneak peek of plotting with pandas. First, some setup to embed SVG plots in the notebook:"
      ]
    },
    {
      "cell_type": "code",
      "execution_count": null,
      "metadata": {
        "id": "_ToaRvIRRTcX"
      },
      "outputs": [],
      "source": [
        "import matplotlib_inline\n",
        "# from utils import mpl_svg_config\n",
        "\n",
        "# matplotlib_inline.backend_inline.set_matplotlib_formats(\n",
        "#     'svg' # output images using SVG format\n",
        "# )"
      ]
    },
    {
      "cell_type": "markdown",
      "metadata": {
        "id": "9kt6TZE9RTcX"
      },
      "source": [
        "Now, we call the `plot()` method to visualize the data:"
      ]
    },
    {
      "cell_type": "code",
      "execution_count": null,
      "metadata": {
        "colab": {
          "base_uri": "https://localhost:8080/",
          "height": 472
        },
        "id": "QMfzwCEaRTcX",
        "outputId": "5c0099dc-db65-48c6-e14c-1e6df5b714fa"
      },
      "outputs": [],
      "source": [
        "tsa_melted_holiday_travel.loc['2020'].assign(\n",
        "    **{\n",
        "        '7D MA':lambda x: x.rolling('7D').travelers.mean(),\n",
        "        'YTD mean': lambda x: x.expanding().travelers.mean()\n",
        "    }\n",
        ").plot(title='2020 TSA Traveler Throughput',ylabel=\"travelers\",alpha=0.8)"
      ]
    },
    {
      "cell_type": "markdown",
      "metadata": {
        "id": "KD2JQ-BxRTcX"
      },
      "source": [
        "Other types of windows:\n",
        "- [exponentially weighted moving](https://pandas.pydata.org/pandas-docs/stable/reference/api/pandas.DataFrame.ewm.html): use the `ewm()` method\n",
        "- [custom](https://pandas.pydata.org/docs/user_guide/window.html#window-custom-rolling-window): create a subclass of `pandas.api.indexers.BaseIndexer` or use a pre-built one in `pandas.api.indexers`"
      ]
    },
    {
      "cell_type": "markdown",
      "metadata": {
        "id": "uEN1rK9IRTcY"
      },
      "source": [
        "# Section 3: Data Visualization\n",
        "\n",
        "The human brain excels at finding patterns in visual representations of the data; so in this section, we will learn how to visualize data using pandas along with the Matplotlib and Seaborn libraries for additional features. We will create a variety of visualizations that will help us better understand our data."
      ]
    },
    {
      "cell_type": "markdown",
      "metadata": {
        "id": "FSfqmWggRTcY"
      },
      "source": [
        "## Why is data visualization necessary?\n",
        "\n",
        "So far, we have focused a lot on summarizing the data using statistics. However, summary statistics are not enough to understand the distribution &ndash; there are many possible distributions for a given set of summary statistics. Data visualization is necessary to truly understand the distribution:\n",
        "\n",
        "<div style=\"text-align: center; margin-top: -10px;\">\n",
        "<img width=\"50%\" src=\"https://raw.githubusercontent.com/stefmolin/data-morph/main/docs/_static/panda-to-star-eased.gif\" alt=\"Data Morph: panda to star\" style=\"min-width: 300px; margin-bottom: -10px;\"/>\n",
        "<div style=\"margin: auto; margin-top: 10px\"><small><em>A set of points forming a panda can also form a star without any significant changes to the summary statistics displayed above. (source: <a href=\"https://github.com/stefmolin/data-morph\">Data Morph</a>)</em></small></div>\n",
        "</div>"
      ]
    },
    {
      "cell_type": "markdown",
      "metadata": {
        "id": "2U1R9nGvRTcY"
      },
      "source": [
        "## Plotting with pandas\n",
        "\n",
        "We can create a variety of visualizations using the `plot()` method. In this section, we will take a brief tour of some of this functionality, which under the hood uses Matplotlib."
      ]
    },
    {
      "cell_type": "markdown",
      "metadata": {
        "id": "Lc9TCEWvRTcY"
      },
      "source": [
        "Once again, we will be working with the TSA traveler throughput data that we cleaned up in the previous section:"
      ]
    },
    {
      "cell_type": "code",
      "execution_count": null,
      "metadata": {
        "colab": {
          "base_uri": "https://localhost:8080/",
          "height": 238
        },
        "id": "7vcEAGsxRTcY",
        "outputId": "aa377db5-36fd-4f07-b1ec-be4b9ed5b1e9"
      },
      "outputs": [],
      "source": [
        "import pandas as pd\n",
        "\n",
        "tsa_melted_holiday_travel = pd.read_csv(\n",
        "    './data/tsa_melted_holiday_travel.csv',\n",
        "    parse_dates=True, index_col='date'\n",
        ")\n",
        "tsa_melted_holiday_travel.head()"
      ]
    },
    {
      "cell_type": "markdown",
      "metadata": {
        "id": "4j8iGYsrRTcZ"
      },
      "source": [
        "### Line plots\n",
        "\n",
        "The `plot()` method will generate line plots for all numeric columns by default:"
      ]
    },
    {
      "cell_type": "code",
      "execution_count": null,
      "metadata": {
        "colab": {
          "base_uri": "https://localhost:8080/",
          "height": 472
        },
        "id": "U2uXWIoeRTcZ",
        "outputId": "3a31dda0-b598-48ff-cf63-288c1e901678"
      },
      "outputs": [],
      "source": [
        "tsa_melted_holiday_travel.drop(columns='year').loc['2020'].assign(\n",
        "    **{\n",
        "        '7D MA': lambda x: x.travelers.rolling('7D').mean(),\n",
        "        'YTD mean': lambda x: x.travelers.expanding().mean()\n",
        "      }\n",
        ").plot(title='2020 TSA Traveler Throughput', ylabel='travelers', alpha=0.8)"
      ]
    },
    {
      "cell_type": "markdown",
      "metadata": {
        "id": "ikdYulBwRTcZ"
      },
      "source": [
        "The `plot()` method returns an `Axes` object that can be modified further (e.g., to add reference lines, annotations, labels, etc.). Let's walk through an example."
      ]
    },
    {
      "cell_type": "markdown",
      "metadata": {
        "id": "8wdDw_xERTcZ"
      },
      "source": [
        "### Bar plots\n",
        "\n",
        "For our next example, we will plot vertical bars to compare monthly TSA traveler throughput across years. Let's start by creating a pivot table with the information we need:"
      ]
    },
    {
      "cell_type": "code",
      "execution_count": null,
      "metadata": {
        "colab": {
          "base_uri": "https://localhost:8080/",
          "height": 238
        },
        "id": "Eb_vv1XbRTcZ",
        "outputId": "e24ca730-7ee6-4ee4-de8b-2626961e4c99"
      },
      "outputs": [],
      "source": [
        "plot_data = tsa_melted_holiday_travel['2019':'2021-04']\\\n",
        "    .assign(month=lambda x: x.index.month)\\\n",
        "    .pivot_table(index='month', columns='year', values='travelers', aggfunc='sum')\n",
        "plot_data.head()"
      ]
    },
    {
      "cell_type": "markdown",
      "metadata": {
        "id": "sTbgTfMQRTcZ"
      },
      "source": [
        "Pandas offers other plot types via the `kind` parameter, so we specify `kind='bar'` when calling the `plot()` method. Then, we further format the visualization using the `Axes` object returned by the `plot()` method:"
      ]
    },
    {
      "cell_type": "code",
      "execution_count": null,
      "metadata": {
        "colab": {
          "base_uri": "https://localhost:8080/",
          "height": 239
        },
        "id": "dSlwyJjvRTca",
        "outputId": "40969a1b-5dca-4d67-bfcf-344a7c6a2a68"
      },
      "outputs": [],
      "source": [
        "import calendar\n",
        "from matplotlib import ticker\n",
        "\n",
        "ax = plot_data.plot(\n",
        "    kind='bar', rot=0, xlabel='', ylabel='travelers',\n",
        "    figsize=(8, 1.5), title='TSA Monthly Traveler Throughput'\n",
        ")\n",
        "\n",
        "# use month abbreviations for the ticks on the x-axis\n",
        "ax.set_xticklabels(calendar.month_abbr[1:])\n",
        "\n",
        "# show y-axis labels in millions instead of scientific notation\n",
        "ax.yaxis.set_major_formatter(ticker.EngFormatter())\n",
        "\n",
        "# customize the legend\n",
        "ax.legend(title='', loc='center', bbox_to_anchor=(0.5, -0.3), ncols=3, frameon=False)"
      ]
    },
    {
      "cell_type": "markdown",
      "metadata": {
        "id": "RPhYn8IsRTca"
      },
      "source": [
        "Some additional things to keep in mind:\n",
        "- Matplotlib's `ticker` module provides functionality for customizing both the tick labels and locations &ndash; check out the [documentation](https://matplotlib.org/stable/api/ticker_api.html) for more information.\n",
        "- Pandas supports horizontal and stacked bars as well; [this](https://medium.com/@stefaniemolin/how-to-pivot-and-plot-data-with-pandas-9450939fcf8) blog post shows how to make stacked horizontal bars using a pivot table.\n",
        "- The `plot()` method takes a lot of [parameters](https://pandas.pydata.org/pandas-docs/stable/reference/api/pandas.DataFrame.plot.html), many of which get passed down to Matplotlib; however, sometimes we need to use Matplotlib calls directly."
      ]
    },
    {
      "cell_type": "markdown",
      "metadata": {
        "id": "URLOnJKaRTca"
      },
      "source": [
        "### Plotting distributions\n",
        "\n",
        "Let's now compare the distribution of daily TSA traveler throughput across years. We will create a subplot for each year with both a histogram and a kernel density estimate (KDE) of the distribution.  Pandas has generated the `Figure` and `Axes` objects for both examples so far, but we can build custom layouts by creating them ourselves with Matplotlib using the `plt.subplots()` function. First, we will need to import the `pyplot` module:"
      ]
    },
    {
      "cell_type": "code",
      "execution_count": null,
      "metadata": {
        "id": "dyXXYU-DRTca"
      },
      "outputs": [],
      "source": [
        "\n",
        "import matplotlib.pyplot as plt"
      ]
    },
    {
      "cell_type": "markdown",
      "metadata": {
        "id": "3AQsnEkJRTca"
      },
      "source": [
        "While pandas lets us specify that we want subplots and their layout (with the `subplots` and `layout` parameters, respectively), using Matplotlib to create the subplots directly gives us additional flexibility:"
      ]
    },
    {
      "cell_type": "code",
      "execution_count": null,
      "metadata": {
        "colab": {
          "base_uri": "https://localhost:8080/",
          "height": 406
        },
        "id": "_KjzeG_QRTca",
        "outputId": "eb8d871b-1fba-4730-ebe8-baa2f7af3e12"
      },
      "outputs": [],
      "source": [
        "fig, axes = plt.subplots(3, 1, sharex=True, sharey=True, figsize=(6, 4))\n",
        "\n",
        "for year, ax in zip(tsa_melted_holiday_travel.year.unique(), axes):\n",
        "    plot_data = tsa_melted_holiday_travel.loc[str(year)].travelers\n",
        "    plot_data.plot(kind='hist', legend=False, density=True, alpha=0.8, ax=ax)\n",
        "    plot_data.plot(kind='kde', legend=False, color='blue', ax=ax)\n",
        "    ax.set(title=f'{year} TSA Traveler Throughput', xlabel='travelers')\n",
        "\n",
        "fig.tight_layout() # handle overlaps"
      ]
    },
    {
      "cell_type": "markdown",
      "metadata": {
        "id": "Z9dKizSqRTca"
      },
      "source": [
        "*Tip: If you're new to the `zip()` function, check out [this](https://realpython.com/python-zip-function/) article.*"
      ]
    },
    {
      "cell_type": "markdown",
      "metadata": {
        "id": "pRaVM5O3RTcb"
      },
      "source": [
        "## Plotting with Seaborn\n",
        "\n",
        "The Seaborn library provides the means to easily visualize long-format data without first pivoting it. In addition, it also offers some additional plot types &ndash; once again building on top of Mtplotlib. Here, we will look at a few examples of visualizations we can create with Seaborn."
      ]
    },
    {
      "cell_type": "markdown",
      "metadata": {
        "id": "FIw-xWTWRTcb"
      },
      "source": [
        "### Visualizing long-format data\n",
        "\n",
        "With Seaborn, we can specify plot colors according to values of a column with the `hue` parameter. When working with functions that generate subplots, we can also specify how to split the subplots by values of a long-format column with the `col` and `row` parameters. Here, we revisit the comparison of the distribution of TSA traveler throughput across years:"
      ]
    },
    {
      "cell_type": "code",
      "execution_count": null,
      "metadata": {
        "colab": {
          "base_uri": "https://localhost:8080/",
          "height": 274
        },
        "id": "__I_O3lnRTcb",
        "outputId": "b8b0143b-2968-4f03-d744-5aff5d03f194"
      },
      "outputs": [],
      "source": [
        "import seaborn as sns\n",
        "\n",
        "sns.displot(\n",
        "    data=tsa_melted_holiday_travel, x='travelers', col='year', kde=True, height=2.5\n",
        ")"
      ]
    },
    {
      "cell_type": "markdown",
      "metadata": {
        "id": "Q1S94HseRTcb"
      },
      "source": [
        "### Heatmaps\n",
        "We can also use Seaborn to visualize pivot tables as heatmaps:"
      ]
    },
    {
      "cell_type": "code",
      "execution_count": null,
      "metadata": {
        "colab": {
          "base_uri": "https://localhost:8080/",
          "height": 457
        },
        "id": "63z70TzVRTcb",
        "outputId": "55c06aaa-df66-4945-bf39-c51af9984eb3"
      },
      "outputs": [],
      "source": [
        "data = tsa_melted_holiday_travel['2019':'2021-04']\\\n",
        "    .assign(month=lambda x: x.index.month)\\\n",
        "    .pivot_table(index='month', columns='year', values='travelers', aggfunc='sum')\n",
        "\n",
        "data"
      ]
    },
    {
      "cell_type": "code",
      "execution_count": null,
      "metadata": {
        "colab": {
          "base_uri": "https://localhost:8080/",
          "height": 472
        },
        "id": "SDDphj7cRTcb",
        "outputId": "2769480f-926b-47fa-c5a6-a9df9d1a628e"
      },
      "outputs": [],
      "source": [
        "ax = sns.heatmap(data=data / 1e6, cmap='Blues', annot=True, fmt='.1f')\n",
        "_ = ax.set_yticklabels(calendar.month_abbr[1:], rotation=0)\n",
        "_ = ax.set_title('Total TSA Traveler Throughput (in millions)')"
      ]
    },
    {
      "cell_type": "markdown",
      "metadata": {
        "id": "BzBH5v0rRTcc"
      },
      "source": [
        "*Tip: Reference the Matplotlib documentation for more information on [colormaps](https://matplotlib.org/stable/tutorials/colors/colormaps.html) and [named colors](https://matplotlib.org/stable/gallery/color/named_colors.html).*"
      ]
    },
    {
      "cell_type": "markdown",
      "metadata": {
        "id": "_Mc3AlOdRTcc"
      },
      "source": [
        "We're moving on from Seaborn now, but there is a lot more available in the [API](https://seaborn.pydata.org/api.html). Be sure to check out the following at a minimum:\n",
        "- [pairwise plots](https://seaborn.pydata.org/generated/seaborn.pairplot.html#seaborn.pairplot) with `pairplot()`\n",
        "- [categorical scatter plots](https://seaborn.pydata.org/generated/seaborn.swarmplot.html#seaborn.swarmplot) with `swarmplot()`\n",
        "- [joint distribution plots](https://seaborn.pydata.org/generated/seaborn.jointplot.html#seaborn.jointplot) with `jointplot()`\n",
        "- [FacetGrids](https://seaborn.pydata.org/generated/seaborn.FacetGrid.html#seaborn.FacetGrid) for custom layouts with any plot type"
      ]
    },
    {
      "cell_type": "markdown",
      "metadata": {
        "id": "OWf4eGAtRTcc"
      },
      "source": [
        "## Customizing plots with Matplotlib\n",
        "\n",
        "In this final section, we will discuss how to use Matplotlib to customize plots. Since there is a lot of functionality available, we will only be covering how to add shaded regions and annotations here, but be sure to check out the [documentation](https://matplotlib.org/) for more."
      ]
    },
    {
      "cell_type": "markdown",
      "metadata": {
        "id": "nP6VmxQxRTcc"
      },
      "source": [
        "### Adding shaded regions\n",
        "\n",
        "When looking at a plot of TSA traveler throughput over time, it's helpful to indicate periods during which there was holiday travel. We can do so with the `axvspan()` method:"
      ]
    },
    {
      "cell_type": "code",
      "execution_count": null,
      "metadata": {
        "colab": {
          "base_uri": "https://localhost:8080/",
          "height": 272
        },
        "id": "c7dUUrx1RTcc",
        "outputId": "612d586d-76c8-4f68-cd08-e21c53067cf7"
      },
      "outputs": [],
      "source": [
        "plot_data = tsa_melted_holiday_travel['2019-05':'2019-11']\n",
        "ax = plot_data.travelers.plot(\n",
        "    title='TSA Traveler Throughput', ylabel='travelers', figsize=(9, 2)\n",
        ")\n",
        "ax.yaxis.set_major_formatter(ticker.EngFormatter())\n",
        "\n",
        "# collect the holiday ranges (start and end dates)\n",
        "holiday_ranges = plot_data.dropna().reset_index()\\\n",
        "    .groupby('holiday').agg({'date': ['min', 'max']})\n",
        "\n",
        "# create shaded regions for each holiday in the plot\n",
        "for start_date, end_date in holiday_ranges.to_numpy():\n",
        "    ax.axvspan(start_date, end_date, color='gray', alpha=0.2)"
      ]
    },
    {
      "cell_type": "markdown",
      "metadata": {
        "id": "GQeOlOuoRTcc"
      },
      "source": [
        "*Tip: Use `axhspan()` for horizontally shaded regions and `axvline()` / `axhline()` for vertical/horizontal reference lines.*"
      ]
    },
    {
      "cell_type": "markdown",
      "metadata": {
        "id": "2-pBk6x5RTcd"
      },
      "source": [
        "### Adding annotations\n",
        "\n",
        "We can use the `annotate()` method to add annotations to the plot. Here, we point out the day in 2019 with the highest TSA traveler throughput, which was the day after Thanksgiving:"
      ]
    },
    {
      "cell_type": "code",
      "execution_count": null,
      "metadata": {
        "colab": {
          "base_uri": "https://localhost:8080/",
          "height": 272
        },
        "id": "zfE3WlsBRTcd",
        "outputId": "81d86b89-75bc-4902-d757-892a55f2bfea"
      },
      "outputs": [],
      "source": [
        "plot_data = tsa_melted_holiday_travel.loc['2019']\n",
        "ax = plot_data.travelers.plot(\n",
        "    title='TSA Traveler Throughput', ylabel='travelers', figsize=(9, 2)\n",
        ")\n",
        "ax.yaxis.set_major_formatter(ticker.EngFormatter())\n",
        "\n",
        "# highest throughput\n",
        "max_throughput_date = plot_data.travelers.idxmax()\n",
        "max_throughput = plot_data.travelers.max()\n",
        "_ = ax.annotate(\n",
        "    f'{max_throughput_date:%b %d}\\n({max_throughput / 1e6:.2f} M)',\n",
        "    xy=(max_throughput_date, max_throughput),\n",
        "    xytext=(max_throughput_date - pd.Timedelta(days=25), max_throughput * 0.92),\n",
        "    arrowprops={'arrowstyle': '->'}, ha='center'\n",
        ")"
      ]
    },
    {
      "cell_type": "markdown",
      "metadata": {
        "id": "bPh8chGORTcd"
      },
      "source": [
        "Some things to keep in mind:\n",
        "- We used `Axes` methods to customize our plots (i.e., an object-oriented approach), but the `pyplot` module provides equivalent functions (i.e., a functional approach) for adding shaded regions, reference lines, annotations, etc. &ndash; although the function names might be slightly different than their `Axes` method counterparts (e.g., `Axes.set_xlabel()` vs. `plt.xlabel()`).\n",
        "- In general, try to stick to either the object-oriented or functional approach rather than mixing the two. However, be careful when working with subplots &ndash; `pyplot` functions will only affect the last subplot.\n",
        "- The [anatomy of a figure](https://matplotlib.org/stable/gallery/showcase/anatomy.html) diagram in the Matplotlib documentation is a great resource for identifying which objects you will need to access for plot customizations."
      ]
    },
    {
      "cell_type": "markdown",
      "metadata": {
        "id": "6271atG4RTcd"
      },
      "source": []
    }
  ],
  "metadata": {
    "colab": {
      "include_colab_link": true,
      "provenance": []
    },
    "kernelspec": {
      "display_name": "Python 3",
      "name": "python3"
    },
    "language_info": {
      "codemirror_mode": {
        "name": "ipython",
        "version": 3
      },
      "file_extension": ".py",
      "mimetype": "text/x-python",
      "name": "python",
      "nbconvert_exporter": "python",
      "pygments_lexer": "ipython3",
      "version": "3.12.4"
    },
    "orig_nbformat": 4
  },
  "nbformat": 4,
  "nbformat_minor": 0
}
